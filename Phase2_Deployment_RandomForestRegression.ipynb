{
 "cells": [
  {
   "cell_type": "code",
   "execution_count": 1,
   "id": "be97fcae",
   "metadata": {},
   "outputs": [],
   "source": [
    "import pickle\n",
    "filename=\"Finalized_model_Randomforest.sav\""
   ]
  },
  {
   "cell_type": "code",
   "execution_count": 2,
   "id": "2b02c587",
   "metadata": {},
   "outputs": [],
   "source": [
    "loaded_model=pickle.load(open(\"Finalized_model_Randomforest.sav\",'rb'))"
   ]
  },
  {
   "cell_type": "code",
   "execution_count": 3,
   "id": "77324d49",
   "metadata": {},
   "outputs": [
    {
     "name": "stdout",
     "output_type": "stream",
     "text": [
      "Age:32\n",
      "BMI:26\n",
      "Childrens:2\n",
      "Sex_male 0 or 1:1\n",
      "Smoker_yes 0 or 1:0\n",
      "Result of this model=[5039.935]\n"
     ]
    },
    {
     "name": "stderr",
     "output_type": "stream",
     "text": [
      "C:\\Users\\Suresh\\anaconda3\\Lib\\site-packages\\sklearn\\base.py:464: UserWarning: X does not have valid feature names, but RandomForestRegressor was fitted with feature names\n",
      "  warnings.warn(\n"
     ]
    }
   ],
   "source": [
    "age_input=float(input(\"Age:\"))\n",
    "bmi_input=float(input(\"BMI:\"))\n",
    "child_input=float(input(\"Childrens:\"))\n",
    "sm_input=float(input(\"Sex_male 0 or 1:\"))\n",
    "sy_input=float(input(\"Smoker_yes 0 or 1:\"))\n",
    "result=loaded_model.predict([[age_input, bmi_input, child_input, sm_input, sy_input]])\n",
    "print(\"Result of this model={}\".format(result))"
   ]
  },
  {
   "cell_type": "code",
   "execution_count": null,
   "id": "885ecd2e",
   "metadata": {},
   "outputs": [],
   "source": []
  }
 ],
 "metadata": {
  "kernelspec": {
   "display_name": "Python 3 (ipykernel)",
   "language": "python",
   "name": "python3"
  },
  "language_info": {
   "codemirror_mode": {
    "name": "ipython",
    "version": 3
   },
   "file_extension": ".py",
   "mimetype": "text/x-python",
   "name": "python",
   "nbconvert_exporter": "python",
   "pygments_lexer": "ipython3",
   "version": "3.11.5"
  }
 },
 "nbformat": 4,
 "nbformat_minor": 5
}
